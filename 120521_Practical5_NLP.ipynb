{
  "nbformat": 4,
  "nbformat_minor": 0,
  "metadata": {
    "colab": {
      "name": "120521_Practical5_NLP.ipynb",
      "private_outputs": true,
      "provenance": [],
      "authorship_tag": "ABX9TyN3ZwyfdcdzW+INyorEYFqo",
      "include_colab_link": true
    },
    "kernelspec": {
      "name": "python3",
      "display_name": "Python 3"
    },
    "language_info": {
      "name": "python"
    }
  },
  "cells": [
    {
      "cell_type": "markdown",
      "metadata": {
        "id": "view-in-github",
        "colab_type": "text"
      },
      "source": [
        "<a href=\"https://colab.research.google.com/github/Huvinesh-Rajendran-12/Computer-Vision/blob/main/120521_Practical5_NLP.ipynb\" target=\"_parent\"><img src=\"https://colab.research.google.com/assets/colab-badge.svg\" alt=\"Open In Colab\"/></a>"
      ]
    },
    {
      "cell_type": "markdown",
      "metadata": {
        "id": "rP4ogOsUA1XX"
      },
      "source": [
        "# Image Enhacement"
      ]
    },
    {
      "cell_type": "markdown",
      "metadata": {
        "id": "-2ClP762A6Gv"
      },
      "source": [
        " Import Libraries "
      ]
    },
    {
      "cell_type": "code",
      "metadata": {
        "id": "zAsctjfaAasA"
      },
      "source": [
        "import numpy as np\n",
        "import pandas as pd\n",
        "import cv2 as cv \n",
        "from google.colab.patches import cv2_imshow # for image display\n",
        "from skimage import io\n",
        "from PIL import Image \n",
        "import matplotlib.pylab as plt"
      ],
      "execution_count": null,
      "outputs": []
    },
    {
      "cell_type": "markdown",
      "metadata": {
        "id": "IP_ru17OBLzb"
      },
      "source": [
        "Read from URL"
      ]
    },
    {
      "cell_type": "code",
      "metadata": {
        "id": "8KCGmTr2BAMF"
      },
      "source": [
        "img = io.imread(\"https://homepages.cae.wisc.edu/~ece533/images/cameraman.tif\")"
      ],
      "execution_count": null,
      "outputs": []
    },
    {
      "cell_type": "code",
      "metadata": {
        "id": "vXnW6qeMBN_T"
      },
      "source": [
        "cv2_imshow(img)\n",
        "# Check the image matrix data type (could know the bit depth of the image)\n",
        "print(img.dtype)\n",
        "\n",
        "# Check the height of image \n",
        "print(img.shape[0])\n",
        "\n",
        "# Check the width of image \n",
        "print(img.shape[1])\n",
        "\n",
        "# Shape of image is accessed by img.shape. \n",
        "# It returns a tuple of number of rows, columns and channels. \n",
        "# If image = grayscale, tuple returned contains only number of rows and columns.\n",
        "print(img.shape)"
      ],
      "execution_count": null,
      "outputs": []
    },
    {
      "cell_type": "markdown",
      "metadata": {
        "id": "L5MvZPA8CINA"
      },
      "source": [
        "Add Noise to Image"
      ]
    },
    {
      "cell_type": "code",
      "metadata": {
        "id": "wNeZkX5TCHDd"
      },
      "source": [
        "from skimage.util import random_noise\n",
        "\n",
        "# Add salt-and-pepper noise to the image.\n",
        "sp_img = random_noise(img, mode='s&p',amount=0.05)\n",
        "gaussian_img = random_noise(img, mode='gaussian', var=0.1**2) \n",
        "speckle_img = random_noise(img, mode='speckle', var=0.1**2) \n",
        "\n",
        "# The above function returns a floating-point image on the range [0, 1], \n",
        "# thus we changed it to 'uint8' and from [0,255]\n",
        "sp_img = np.array(255*sp_img, dtype = 'uint8')\n",
        "gaussian_img = np.array(255*gaussian_img, dtype = 'uint8')\n",
        "speckle_img = np.array(255*speckle_img, dtype = 'uint8')\n",
        "\n",
        "plt.figure(figsize=([20, 20]))\n",
        "\n",
        "plt.subplot(131),plt.imshow(sp_img, cmap = 'gray')\n",
        "plt.title('Salt pepper noise'), plt.xticks([]), plt.yticks([])\n",
        "\n",
        "plt.subplot(132),plt.imshow(gaussian_img, cmap = 'gray')\n",
        "plt.title('Gaussian noise'), plt.xticks([]), plt.yticks([])\n",
        "\n",
        "plt.subplot(133),plt.imshow(speckle_img, cmap = 'gray')\n",
        "plt.title('Speckle noise'), plt.xticks([]), plt.yticks([])\n",
        "\n",
        "plt.show()"
      ],
      "execution_count": null,
      "outputs": []
    },
    {
      "cell_type": "markdown",
      "metadata": {
        "id": "6_mj6UjbCjBW"
      },
      "source": [
        "Denoise the image"
      ]
    },
    {
      "cell_type": "code",
      "metadata": {
        "id": "aP9guUKsCo4x"
      },
      "source": [
        "denoise_gaussian1 = cv.fastNlMeansDenoising(gaussian_img, None, 10, 7, 21)\n",
        "denoise_gaussian2 = cv.fastNlMeansDenoising(gaussian_img, None, 20, 7, 21)\n",
        "denoise_gaussian3 = cv.fastNlMeansDenoising(gaussian_img, None, 50, 7, 21)\n",
        "\n",
        "plt.figure(figsize=([20, 20]))\n",
        "\n",
        "plt.subplot(141),plt.imshow(gaussian_img, cmap = 'gray')\n",
        "plt.title('Gaussian noise'), plt.xticks([]), plt.yticks([])\n",
        "\n",
        "plt.subplot(142),plt.imshow(denoise_gaussian1, cmap = 'gray')\n",
        "plt.title('denoise h=10'), plt.xticks([]), plt.yticks([])\n",
        "\n",
        "plt.subplot(143),plt.imshow(denoise_gaussian2, cmap = 'gray')\n",
        "plt.title('denoise h=20'), plt.xticks([]), plt.yticks([])\n",
        "\n",
        "plt.subplot(144),plt.imshow(denoise_gaussian3, cmap = 'gray')\n",
        "plt.title('denoise h=50'), plt.xticks([]), plt.yticks([])\n",
        "\n",
        "plt.show()"
      ],
      "execution_count": null,
      "outputs": []
    },
    {
      "cell_type": "markdown",
      "metadata": {
        "id": "J0iPXGBaD0IX"
      },
      "source": [
        "Edge Detection "
      ]
    },
    {
      "cell_type": "markdown",
      "metadata": {
        "id": "RBwAPEmDEC0_"
      },
      "source": [
        "<h6> Canny Edge Detection </h6> "
      ]
    },
    {
      "cell_type": "code",
      "metadata": {
        "id": "UH1gFeL9D15G"
      },
      "source": [
        "edges_1 = cv.Canny(img,50,70)\n",
        "edges_2 = cv.Canny(img,100,200)\n",
        "edges_3 = cv.Canny(img,100,400)\n",
        "\n",
        "plt.figure(figsize=([20, 20]))\n",
        "\n",
        "plt.subplot(141),plt.imshow(img,cmap = 'gray')\n",
        "plt.title('Original Image'), plt.xticks([]), plt.yticks([])\n",
        "\n",
        "plt.subplot(142),plt.imshow(edges_1,cmap = 'gray')\n",
        "plt.title('Edge Image_1'), plt.xticks([]), plt.yticks([])\n",
        "\n",
        "plt.subplot(143),plt.imshow(edges_2,cmap = 'gray')\n",
        "plt.title('Edge Image_2'), plt.xticks([]), plt.yticks([])\n",
        "\n",
        "plt.subplot(144),plt.imshow(edges_3,cmap = 'gray')\n",
        "plt.title('Edge Image_3'), plt.xticks([]), plt.yticks([])\n",
        "plt.show()"
      ],
      "execution_count": null,
      "outputs": []
    },
    {
      "cell_type": "markdown",
      "metadata": {
        "id": "LROy52kuHs3M"
      },
      "source": [
        "<h6> Laplacian & Sobel Order </h6> "
      ]
    },
    {
      "cell_type": "code",
      "metadata": {
        "id": "sIjbXsOTH2ny"
      },
      "source": [
        "# Remove noise by blurring with a Gaussian filter\n",
        "imgBlur = cv.GaussianBlur(img,(3,3),0)\n",
        "cv2_imshow(imgBlur)"
      ],
      "execution_count": null,
      "outputs": []
    },
    {
      "cell_type": "code",
      "metadata": {
        "id": "6MsP37WWH7Pq"
      },
      "source": [
        "# convolute with proper kernels\n",
        "laplacian = cv.Laplacian(imgBlur,cv.CV_64F)\n",
        "sobelx = cv.Sobel(imgBlur,cv.CV_64F,1,0,ksize=5)  # x\n",
        "sobely = cv.Sobel(imgBlur,cv.CV_64F,0,1,ksize=5)  # y"
      ],
      "execution_count": null,
      "outputs": []
    },
    {
      "cell_type": "code",
      "metadata": {
        "id": "bvFsHkgoH-0G"
      },
      "source": [
        "plt.figure(figsize=([10, 10]))\n",
        "plt.subplot(2,2,1),plt.imshow(imgBlur,cmap = 'gray')\n",
        "plt.title('Original'), plt.xticks([]), plt.yticks([])\n",
        "\n",
        "plt.subplot(2,2,2),plt.imshow(laplacian,cmap = 'gray')\n",
        "plt.title('Laplacian'), plt.xticks([]), plt.yticks([])\n",
        "\n",
        "plt.subplot(2,2,3),plt.imshow(sobelx,cmap = 'gray')\n",
        "plt.title('Sobel X'), plt.xticks([]), plt.yticks([])\n",
        "\n",
        "plt.subplot(2,2,4),plt.imshow(sobely,cmap = 'gray')\n",
        "plt.title('Sobel Y'), plt.xticks([]), plt.yticks([])\n",
        "\n",
        "plt.show()\n",
        "\n"
      ],
      "execution_count": null,
      "outputs": []
    },
    {
      "cell_type": "code",
      "metadata": {
        "id": "N26yvb_tJm07"
      },
      "source": [
        "import cv2\n",
        "import numpy as np\n",
        "from matplotlib import pyplot as plt\n",
        "\n",
        "# Output dtype = cv2.CV_8U\n",
        "sobelx8u_x = cv2.Sobel(imgBlur,cv2.CV_8U,1,0,ksize=3) # x\n",
        "sobelx8u_y = cv2.Sobel(imgBlur,cv2.CV_8U,0,1,ksize=3) # y\n",
        "\n",
        "# Output dtype = cv2.CV_64F. Then take its absolute and convert to cv2.CV_8U\n",
        "sobelx64f_x = cv2.Sobel(imgBlur,cv2.CV_64F,1,0,ksize=3) # x\n",
        "sobelx64f_y = cv2.Sobel(imgBlur,cv2.CV_64F,0,1,ksize=3) # y\n",
        "abs_sobel64f_x = np.absolute(sobelx64f_x)\n",
        "abs_sobel64f_y = np.absolute(sobelx64f_y)\n",
        "sobel_8u_x = np.uint8(abs_sobel64f_x)\n",
        "sobel_8u_y = np.uint8(abs_sobel64f_y)\n",
        "\n",
        "plt.figure(figsize=([20, 10]))\n",
        "plt.subplot(2,3,1),plt.imshow(imgBlur,cmap = 'gray')\n",
        "plt.title('Original'), plt.xticks([]), plt.yticks([])\n",
        "\n",
        "plt.subplot(2,3,2),plt.imshow(sobelx8u_x,cmap = 'gray')\n",
        "plt.title('Sobel CV_8U_x'), plt.xticks([]), plt.yticks([])\n",
        "plt.subplot(2,3,3),plt.imshow(sobel_8u_x,cmap = 'gray')\n",
        "plt.title('Sobel abs(CV_64F_x)'), plt.xticks([]), plt.yticks([])\n",
        "\n",
        "plt.subplot(2,3,4),plt.imshow(sobelx8u_y,cmap = 'gray')\n",
        "plt.title('Sobel CV_8U_y'), plt.xticks([]), plt.yticks([])\n",
        "plt.subplot(2,3,5),plt.imshow(sobel_8u_y,cmap = 'gray')\n",
        "plt.title('Sobel abs(CV_64F)_y'), plt.xticks([]), plt.yticks([])\n",
        "\n",
        "plt.show()"
      ],
      "execution_count": null,
      "outputs": []
    }
  ]
}