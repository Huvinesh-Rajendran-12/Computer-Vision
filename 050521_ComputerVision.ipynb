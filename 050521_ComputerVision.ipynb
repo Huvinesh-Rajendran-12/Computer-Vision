{
  "nbformat": 4,
  "nbformat_minor": 0,
  "metadata": {
    "colab": {
      "name": "050521-ComputerVision.ipynb",
      "private_outputs": true,
      "provenance": [],
      "mount_file_id": "10yJDbwzkHjRaAkBa6hpxcyvmbqTcfkME",
      "authorship_tag": "ABX9TyM8CnNCJ8A/LXNERuEubVjf",
      "include_colab_link": true
    },
    "kernelspec": {
      "name": "python3",
      "display_name": "Python 3"
    },
    "language_info": {
      "name": "python"
    }
  },
  "cells": [
    {
      "cell_type": "markdown",
      "metadata": {
        "id": "view-in-github",
        "colab_type": "text"
      },
      "source": [
        "<a href=\"https://colab.research.google.com/github/Huvinesh-Rajendran-12/Computer-Vision/blob/main/050521_ComputerVision.ipynb\" target=\"_parent\"><img src=\"https://colab.research.google.com/assets/colab-badge.svg\" alt=\"Open In Colab\"/></a>"
      ]
    },
    {
      "cell_type": "markdown",
      "metadata": {
        "id": "Mhv25LOC6wWF"
      },
      "source": [
        "# Image Operations"
      ]
    },
    {
      "cell_type": "markdown",
      "metadata": {
        "id": "EbNUVoG566f8"
      },
      "source": [
        "## Import Libraries"
      ]
    },
    {
      "cell_type": "code",
      "metadata": {
        "id": "xJ_VXGE-6Ap2"
      },
      "source": [
        "import numpy as np \n",
        "import pandas as pd \n",
        "import cv2 as cv \n",
        "from google.colab.patches import cv2_imshow \n",
        "from skimage import io \n",
        "from PIL import Image \n",
        "import matplotlib.pylab as plt \n"
      ],
      "execution_count": null,
      "outputs": []
    },
    {
      "cell_type": "code",
      "metadata": {
        "id": "NzAc_wVBAc_X"
      },
      "source": [
        "data_dir = \"/content/drive/MyDrive/Practical/Computer Vision and NLp/tom-coe-FXhRrfFH9kc-unsplash.jpg\"\n",
        "image = cv.imread(data_dir)\n",
        "cv2_imshow(image)\n",
        "cv.waitKey(0)"
      ],
      "execution_count": null,
      "outputs": []
    },
    {
      "cell_type": "code",
      "metadata": {
        "id": "gqS9dr0wA1Co"
      },
      "source": [
        "# Check the image matrix data type (could know the bit depth of the image)\n",
        "print(image.dtype)\n",
        "# Check the height of image \n",
        "print(image.shape[0])\n",
        "# Check the width of image \n",
        "print(image.shape[1])\n",
        "# Check the number of channels of the image\n",
        "print(image.shape[2])"
      ],
      "execution_count": null,
      "outputs": []
    },
    {
      "cell_type": "code",
      "metadata": {
        "id": "sn2uhMjeBIXl"
      },
      "source": [
        "print(image.shape)"
      ],
      "execution_count": null,
      "outputs": []
    },
    {
      "cell_type": "markdown",
      "metadata": {
        "id": "p84nOI0nBS5F"
      },
      "source": [
        "## Resizing(Scaling) "
      ]
    },
    {
      "cell_type": "code",
      "metadata": {
        "id": "327tEM2xBR50"
      },
      "source": [
        "# to prevent image does from skewed or distorted \n",
        "# calculate the ratio of the new image to the old image\n",
        "r = 500 / image.shape[1]\n",
        "dim = (500, int(image.shape[0] * r))\n",
        "\n",
        "# perform the actual resizing of the image and show it\n",
        "resized = cv.resize(image, dim, interpolation = cv.INTER_AREA)\n",
        "cv2_imshow(resized)\n",
        "cv.waitKey(0)"
      ],
      "execution_count": null,
      "outputs": []
    },
    {
      "cell_type": "markdown",
      "metadata": {
        "id": "CcnBCQ2aBcUN"
      },
      "source": [
        "## Rotating Image"
      ]
    },
    {
      "cell_type": "code",
      "metadata": {
        "id": "ypNNxruoBbKa"
      },
      "source": [
        "# grab the dimensions of the image and calculate the center\n",
        "(h, w) = resized.shape[:2]\n",
        "center = (w / 2, h / 2)\n",
        "\n",
        "# rotate the image by 180 degrees\n",
        "M = cv.getRotationMatrix2D(center, 180, 1.0)\n",
        "rotated = cv.warpAffine(resized, M, (w, h))\n",
        "cv2_imshow(rotated)\n",
        "\n",
        "# re-rotate\n",
        "M = cv.getRotationMatrix2D(center, 180, 1.0)\n",
        "rotated = cv.warpAffine(rotated, M, (w, h))\n",
        "cv2_imshow(rotated)\n",
        "cv.waitKey(0)"
      ],
      "execution_count": null,
      "outputs": []
    },
    {
      "cell_type": "markdown",
      "metadata": {
        "id": "vdFaNRvCBkLD"
      },
      "source": [
        "## Histogram"
      ]
    },
    {
      "cell_type": "code",
      "metadata": {
        "id": "r_9NZ6TXBi6c"
      },
      "source": [
        "plt.hist(rotated.ravel(),bins = 256, range = [0,256]) \n",
        "plt.show()"
      ],
      "execution_count": null,
      "outputs": []
    },
    {
      "cell_type": "markdown",
      "metadata": {
        "id": "G899kzZSB7iD"
      },
      "source": [
        "### Display the histogram of RGB channel"
      ]
    },
    {
      "cell_type": "code",
      "metadata": {
        "id": "yyFjCUKCCAvw"
      },
      "source": [
        "color = ('r','g','b')\n",
        "for i,col in enumerate(color):\n",
        "    histr = cv.calcHist([rotated],[i],None,[256],[0,256])\n",
        "    plt.plot(histr,color = col)\n",
        "    plt.xlim([0,256])\n",
        "plt.show()"
      ],
      "execution_count": null,
      "outputs": []
    },
    {
      "cell_type": "code",
      "metadata": {
        "id": "KtWzn_lNCDn6"
      },
      "source": [
        "gray_image = cv.cvtColor(rotated, cv.COLOR_RGB2GRAY)\n",
        "cv2_imshow(gray_image)"
      ],
      "execution_count": null,
      "outputs": []
    }
  ]
}