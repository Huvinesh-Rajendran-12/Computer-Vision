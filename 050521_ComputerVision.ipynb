{
  "nbformat": 4,
  "nbformat_minor": 0,
  "metadata": {
    "colab": {
      "name": "050521-ComputerVision.ipynb",
      "private_outputs": true,
      "provenance": [],
      "mount_file_id": "10yJDbwzkHjRaAkBa6hpxcyvmbqTcfkME",
      "authorship_tag": "ABX9TyPXIqDtISC1qOrIbIgw/c74",
      "include_colab_link": true
    },
    "kernelspec": {
      "name": "python3",
      "display_name": "Python 3"
    },
    "language_info": {
      "name": "python"
    }
  },
  "cells": [
    {
      "cell_type": "markdown",
      "metadata": {
        "id": "view-in-github",
        "colab_type": "text"
      },
      "source": [
        "<a href=\"https://colab.research.google.com/github/Huvinesh-Rajendran-12/Computer-Vision/blob/main/050521_ComputerVision.ipynb\" target=\"_parent\"><img src=\"https://colab.research.google.com/assets/colab-badge.svg\" alt=\"Open In Colab\"/></a>"
      ]
    },
    {
      "cell_type": "markdown",
      "metadata": {
        "id": "Mhv25LOC6wWF"
      },
      "source": [
        "# Image Operations"
      ]
    },
    {
      "cell_type": "markdown",
      "metadata": {
        "id": "EbNUVoG566f8"
      },
      "source": [
        "## Import Libraries"
      ]
    },
    {
      "cell_type": "code",
      "metadata": {
        "id": "xJ_VXGE-6Ap2"
      },
      "source": [
        "import numpy as np \n",
        "import pandas as pd \n",
        "import cv2 as cv \n",
        "from google.colab.patches import cv2_imshow \n",
        "from skimage import io \n",
        "from PIL import Image \n",
        "import matplotlib.pylab as plt \n"
      ],
      "execution_count": null,
      "outputs": []
    },
    {
      "cell_type": "code",
      "metadata": {
        "id": "NzAc_wVBAc_X"
      },
      "source": [
        "data_dir = \"/content/drive/MyDrive/Practical/Computer Vision and NLp/tom-coe-FXhRrfFH9kc-unsplash.jpg\"\n",
        "image = cv.imread(data_dir)\n",
        "cv2_imshow(image)\n",
        "cv.waitKey(0)"
      ],
      "execution_count": null,
      "outputs": []
    },
    {
      "cell_type": "code",
      "metadata": {
        "id": "gqS9dr0wA1Co"
      },
      "source": [
        "# Check the image matrix data type (could know the bit depth of the image)\n",
        "print(image.dtype)\n",
        "# Check the height of image \n",
        "print(image.shape[0])\n",
        "# Check the width of image \n",
        "print(image.shape[1])\n",
        "# Check the number of channels of the image\n",
        "print(image.shape[2])"
      ],
      "execution_count": null,
      "outputs": []
    },
    {
      "cell_type": "code",
      "metadata": {
        "id": "sn2uhMjeBIXl"
      },
      "source": [
        "print(image.shape)"
      ],
      "execution_count": null,
      "outputs": []
    },
    {
      "cell_type": "markdown",
      "metadata": {
        "id": "p84nOI0nBS5F"
      },
      "source": [
        "## Resizing(Scaling) "
      ]
    },
    {
      "cell_type": "code",
      "metadata": {
        "id": "327tEM2xBR50"
      },
      "source": [
        "# to prevent image does from skewed or distorted \n",
        "# calculate the ratio of the new image to the old image\n",
        "r = 500 / image.shape[1]\n",
        "dim = (500, int(image.shape[0] * r))\n",
        "\n",
        "# perform the actual resizing of the image and show it\n",
        "resized = cv.resize(image, dim, interpolation = cv.INTER_AREA)\n",
        "cv2_imshow(resized)\n",
        "cv.waitKey(0)"
      ],
      "execution_count": null,
      "outputs": []
    },
    {
      "cell_type": "markdown",
      "metadata": {
        "id": "CcnBCQ2aBcUN"
      },
      "source": [
        "## Rotating Image"
      ]
    },
    {
      "cell_type": "code",
      "metadata": {
        "id": "ypNNxruoBbKa"
      },
      "source": [
        "# grab the dimensions of the image and calculate the center\n",
        "(h, w) = resized.shape[:2]\n",
        "center = (w / 2, h / 2)\n",
        "\n",
        "# rotate the image by 180 degrees\n",
        "M = cv.getRotationMatrix2D(center, 180, 1.0)\n",
        "rotated = cv.warpAffine(resized, M, (w, h))\n",
        "cv2_imshow(rotated)\n",
        "\n",
        "# re-rotate\n",
        "M = cv.getRotationMatrix2D(center, 180, 1.0)\n",
        "rotated = cv.warpAffine(rotated, M, (w, h))\n",
        "cv2_imshow(rotated)\n",
        "cv.waitKey(0)"
      ],
      "execution_count": null,
      "outputs": []
    },
    {
      "cell_type": "markdown",
      "metadata": {
        "id": "vdFaNRvCBkLD"
      },
      "source": [
        "## Histogram"
      ]
    },
    {
      "cell_type": "code",
      "metadata": {
        "id": "r_9NZ6TXBi6c"
      },
      "source": [
        "plt.hist(rotated.ravel(),bins = 256, range = [0,256]) \n",
        "plt.show()"
      ],
      "execution_count": null,
      "outputs": []
    },
    {
      "cell_type": "markdown",
      "metadata": {
        "id": "G899kzZSB7iD"
      },
      "source": [
        "### Display the histogram of RGB channel"
      ]
    },
    {
      "cell_type": "code",
      "metadata": {
        "id": "yyFjCUKCCAvw"
      },
      "source": [
        "color = ('r','g','b')\n",
        "for i,col in enumerate(color):\n",
        "    histr = cv.calcHist([rotated],[i],None,[256],[0,256])\n",
        "    plt.plot(histr,color = col)\n",
        "    plt.xlim([0,256])\n",
        "plt.show()"
      ],
      "execution_count": null,
      "outputs": []
    },
    {
      "cell_type": "code",
      "metadata": {
        "id": "KtWzn_lNCDn6"
      },
      "source": [
        "gray_image = cv.cvtColor(rotated, cv.COLOR_RGB2GRAY)\n",
        "cv2_imshow(gray_image)"
      ],
      "execution_count": null,
      "outputs": []
    },
    {
      "cell_type": "code",
      "metadata": {
        "id": "ytk2_DYbEwnc"
      },
      "source": [
        "# Plot the histogram of the gray image. We could observe that the frequency of\n",
        "# the image hist has decreased ~ 1/3 of the histogram of color image\n",
        "plt.hist(gray_image.ravel(),bins = 256, range = [0, 256])\n",
        "plt.show()"
      ],
      "execution_count": null,
      "outputs": []
    },
    {
      "cell_type": "markdown",
      "metadata": {
        "id": "_oL7GQ4wE0bF"
      },
      "source": [
        "## Grayscale Transformation "
      ]
    },
    {
      "cell_type": "code",
      "metadata": {
        "id": "PGbP205tEzbg"
      },
      "source": [
        "# This is an inverse operation of the grayscale image, you could see that the\n",
        "# bright pixels become dark, and the dark pixels become bright\n",
        "im2 = 255 - gray_image\n",
        "cv2_imshow(im2)"
      ],
      "execution_count": null,
      "outputs": []
    },
    {
      "cell_type": "code",
      "metadata": {
        "id": "xnaJPysAE7eR"
      },
      "source": [
        "# Another transform of the image, after adding a constant, \n",
        "# all the pixels become brighter and a hazing-like effect of the image is generated\n",
        "im3 = (100/255)*gray_image + 100\n",
        "cv2_imshow(im3)"
      ],
      "execution_count": null,
      "outputs": []
    },
    {
      "cell_type": "code",
      "metadata": {
        "id": "zW02ZtDBE_IC"
      },
      "source": [
        "# The lightness level of the gray_image decreases after this step\n",
        "im4 = 255*(gray_image/255)**2\n",
        "cv2_imshow(im4)\n",
        "plt.hist(im4.ravel(),bins = 256, range = [0, 256])\n",
        "plt.show()"
      ],
      "execution_count": null,
      "outputs": []
    },
    {
      "cell_type": "markdown",
      "metadata": {
        "id": "s0zVvuXAFExq"
      },
      "source": [
        "## Histogram Equalization "
      ]
    },
    {
      "cell_type": "code",
      "metadata": {
        "id": "2pYm0mI1FD_B"
      },
      "source": [
        "# function of histogram equalization\n",
        "def histeq(im, nbr_bins = 256):\n",
        "  \"\"\" Histogram equalization of a grayscale image.  \"\"\"\n",
        "  # get the image histogram\n",
        "  imhist, bins = np.histogram(im.flatten(), nbr_bins, [0, 256])\n",
        "  cdf = imhist.cumsum() # cumulative distribution function\n",
        "  cdf = imhist.max()*cdf/cdf.max()  #normalize\n",
        "  cdf_mask = np.ma.masked_equal(cdf, 0)\n",
        "  cdf_mask = (cdf_mask - cdf_mask.min())*255/(cdf_mask.max()-cdf_mask.min())\n",
        "  cdf = np.ma.filled(cdf_mask,0).astype('uint8')\n",
        "  return cdf[im.astype('uint8')]\n",
        "\n",
        "# apply the function on your dark image to increase the contrast\n",
        "# we could observe that the contrast of the black background has increased\n",
        "im5 = histeq(im4)\n",
        "cv2_imshow(im5)"
      ],
      "execution_count": null,
      "outputs": []
    },
    {
      "cell_type": "code",
      "metadata": {
        "id": "wckqk5e4FR9g"
      },
      "source": [
        "# Extra: try to visualize the histogram of the image after histogram equalization\n",
        "# Before histogram equalization\n",
        "plt.hist(im4.ravel(),bins = 256, range = [0, 256])\n",
        "plt.show()"
      ],
      "execution_count": null,
      "outputs": []
    },
    {
      "cell_type": "code",
      "metadata": {
        "id": "_qo6fZ8rFR6J"
      },
      "source": [
        "# After histogram equalization\n",
        "plt.hist(im5.ravel(),bins = 256, range = [0, 256])\n",
        "plt.show()"
      ],
      "execution_count": null,
      "outputs": []
    },
    {
      "cell_type": "markdown",
      "metadata": {
        "id": "rxboF333FZEn"
      },
      "source": [
        "## Dilation & Erosion"
      ]
    },
    {
      "cell_type": "code",
      "metadata": {
        "id": "KRgjp_5mFYiW"
      },
      "source": [
        "# Python program to demonstrate erosion & dilation of images.\n",
        "import cv2\n",
        "from google.colab.patches import cv2_imshow\n",
        "import numpy as np\n",
        "  \n",
        "# Reading the input image\n",
        "img = io.imread(\"https://placekitten.com/800/571\") \n",
        "\n",
        "# to prevent image does from skewed or distorted \n",
        "# calculate the ratio of the new image to the old image\n",
        "r = 300 / img.shape[1]\n",
        "dim = (300, int(img.shape[0] * r))\n",
        "\n",
        "# Warning: Color image loaded by OpenCV is in BGR mode. \n",
        "# But Matplotlib displays in RGB mode. \n",
        "# So color images will not be displayed correctly in Matplotlib \n",
        "# if image is read with OpenCV.\n",
        "bgr2rgb = cv2.cvtColor(img, cv.COLOR_BGR2RGB)\n",
        "cv2_imshow(bgr2rgb)\n",
        "\n",
        "# perform the actual resizing of the image and show it\n",
        "resized3 = cv.resize(bgr2rgb, dim, interpolation = cv.INTER_AREA)\n",
        "cv2_imshow(resized3)\n",
        "cv.waitKey(0)\n",
        "\n",
        "print(resized3.shape)\n",
        "\n",
        "# crop the image using array slices \n",
        "cropped = resized3[100:140, 100:140]\n",
        "cv2_imshow(cropped)\n",
        "cv.waitKey(0)\n",
        "\n",
        "gray_image3 = cv.cvtColor(resized3, cv.COLOR_BGR2GRAY)\n",
        "cv2_imshow(gray_image3)\n",
        "# Taking a matrix of size 5 as the kernel\n",
        "kernel = np.ones((5,5), np.uint8)\n",
        "  \n",
        "# The first parameter is the original image,\n",
        "# kernel is the matrix with which image is convolved \n",
        "# third parameter is the number of iterations, \n",
        "# to determine how much you want to erode/dilate a given image. \n",
        "img_erosion2 = cv2.erode(gray_image3, kernel, iterations=1)\n",
        "img_dilation2 = cv2.dilate(gray_image3, kernel, iterations=1)\n",
        "\n",
        "cv2_imshow(img_erosion2)\n",
        "cv2_imshow(img_dilation2)\n",
        "  \n",
        "cv2.waitKey(0)"
      ],
      "execution_count": null,
      "outputs": []
    },
    {
      "cell_type": "markdown",
      "metadata": {
        "id": "hi1_SKfsFqgU"
      },
      "source": [
        "## Save the cropped image"
      ]
    },
    {
      "cell_type": "code",
      "metadata": {
        "id": "R3cQ1tgYFpKS"
      },
      "source": [
        "cv2.imwrite(\"/content/drive/MyDrive/Colab Notebooks/crooped_nose.png\", cropped)"
      ],
      "execution_count": null,
      "outputs": []
    }
  ]
}